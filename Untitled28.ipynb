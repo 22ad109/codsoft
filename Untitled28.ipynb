{
  "nbformat": 4,
  "nbformat_minor": 0,
  "metadata": {
    "colab": {
      "provenance": [],
      "authorship_tag": "ABX9TyMcQRYFgeZD/of6aQHw/tNB",
      "include_colab_link": true
    },
    "kernelspec": {
      "name": "python3",
      "display_name": "Python 3"
    },
    "language_info": {
      "name": "python"
    }
  },
  "cells": [
    {
      "cell_type": "markdown",
      "metadata": {
        "id": "view-in-github",
        "colab_type": "text"
      },
      "source": [
        "<a href=\"https://colab.research.google.com/github/22ad109/codsoft/blob/main/Untitled28.ipynb\" target=\"_parent\"><img src=\"https://colab.research.google.com/assets/colab-badge.svg\" alt=\"Open In Colab\"/></a>"
      ]
    },
    {
      "cell_type": "code",
      "execution_count": null,
      "metadata": {
        "colab": {
          "base_uri": "https://localhost:8080/"
        },
        "id": "mvj_sc2WCZTW",
        "outputId": "58139338-440f-4d17-dbd8-52f2191a38c1"
      },
      "outputs": [
        {
          "metadata": {
            "tags": null
          },
          "name": "stdout",
          "output_type": "stream",
          "text": [
            "Chatbot: Hello! How can I assist you today?\n",
            "Chatbot: I am a chat bot.\n",
            "Chatbot: I'm sorry, I don't understand. Please ask me something else.\n"
          ]
        }
      ],
      "source": [
        "responses = {\n",
        "    \"hello\": \"Hello! How can I assist you today?\",\n",
        "    \"hi\": \"Hi! How can I help you!\",\n",
        "    \"who are you\": \"I am a chat bot.\",\n",
        "    \"how are you\": \"I don't have feelings, but thanks for asking.\",\n",
        "    \"default\": \"I'm sorry, I don't understand. Please ask me something else.\"\n",
        "}\n",
        "\n",
        "while True:\n",
        "    user_input = input(\"You: \").lower()\n",
        "\n",
        "    if user_input in responses:\n",
        "        print(\"Chatbot:\", responses[user_input])\n",
        "    elif \"thank you\" in user_input:\n",
        "        print(\"Chatbot: You're welcome!\")\n",
        "    elif \"help\" in user_input:\n",
        "        print(\"Chatbot: I'm here to answer your questions. Just ask away!\")\n",
        "    elif \"bye\" in user_input:\n",
        "        print(\"Chatbot: Goodbye! Have a nice day.\")\n",
        "        break\n",
        "    else:\n",
        "        print(\"Chatbot:\", responses[\"default\"])"
      ]
    }
  ]
}