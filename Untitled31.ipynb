{
  "nbformat": 4,
  "nbformat_minor": 0,
  "metadata": {
    "colab": {
      "provenance": [],
      "authorship_tag": "ABX9TyOyx8LTdPMluCJRse4uIAH4",
      "include_colab_link": true
    },
    "kernelspec": {
      "name": "python3",
      "display_name": "Python 3"
    },
    "language_info": {
      "name": "python"
    }
  },
  "cells": [
    {
      "cell_type": "markdown",
      "metadata": {
        "id": "view-in-github",
        "colab_type": "text"
      },
      "source": [
        "<a href=\"https://colab.research.google.com/github/22ad109/codsoft/blob/main/Untitled31.ipynb\" target=\"_parent\"><img src=\"https://colab.research.google.com/assets/colab-badge.svg\" alt=\"Open In Colab\"/></a>"
      ]
    },
    {
      "cell_type": "code",
      "execution_count": 1,
      "metadata": {
        "colab": {
          "base_uri": "https://localhost:8080/"
        },
        "id": "1bUfQgx_NpzY",
        "outputId": "37bbd6a9-5724-45c5-d39b-1165c1f5e369"
      },
      "outputs": [
        {
          "output_type": "stream",
          "name": "stdout",
          "text": [
            "Welcome to Tic-Tac-Toe!\n",
            "  |   |  \n",
            "---------\n",
            "  |   |  \n",
            "---------\n",
            "  |   |  \n",
            "Enter your move (1-9): 4\n",
            "  |   |  \n",
            "---------\n",
            "X |   |  \n",
            "---------\n",
            "  |   |  \n",
            "AI plays 5:\n",
            "  |   |  \n",
            "---------\n",
            "X | O |  \n",
            "---------\n",
            "  |   |  \n",
            "Enter your move (1-9): 1\n",
            "X |   |  \n",
            "---------\n",
            "X | O |  \n",
            "---------\n",
            "  |   |  \n",
            "AI plays 2:\n",
            "X | O |  \n",
            "---------\n",
            "X | O |  \n",
            "---------\n",
            "  |   |  \n",
            "Enter your move (1-9): 7\n",
            "X | O |  \n",
            "---------\n",
            "X | O |  \n",
            "---------\n",
            "X |   |  \n",
            "You win!\n"
          ]
        }
      ],
      "source": [
        "import random\n",
        "\n",
        "board = [\" \" for _ in range(9)]\n",
        "\n",
        "def print_board():\n",
        "    for i in range(0, 9, 3):\n",
        "        print(f\"{board[i]} | {board[i+1]} | {board[i+2]}\")\n",
        "        if i < 6:\n",
        "            print(\"-\" * 9)\n",
        "\n",
        "def check_win(board, player):\n",
        "    winning_combinations = [(0, 1, 2), (3, 4, 5), (6, 7, 8),\n",
        "                            (0, 3, 6), (1, 4, 7), (2, 5, 8),\n",
        "                            (0, 4, 8), (2, 4, 6)]\n",
        "\n",
        "    for a, b, c in winning_combinations:\n",
        "        if board[a] == board[b] == board[c] == player:\n",
        "            return True\n",
        "    return False\n",
        "\n",
        "def play_game():\n",
        "    print(\"Welcome to Tic-Tac-Toe!\")\n",
        "    print_board()\n",
        "\n",
        "    while True:\n",
        "        move = int(input(\"Enter your move (1-9): \")) - 1\n",
        "        if board[move] == \" \":\n",
        "            board[move] = \"X\"\n",
        "        else:\n",
        "            print(\"Invalid move. Try again.\")\n",
        "            continue\n",
        "\n",
        "        print_board()\n",
        "\n",
        "        if check_win(board, \"X\"):\n",
        "            print(\"You win!\")\n",
        "            break\n",
        "\n",
        "        if \" \" not in board:\n",
        "            print(\"It's a tie!\")\n",
        "            break\n",
        "\n",
        "        ai_move = random.choice([i for i, spot in enumerate(board) if spot == \" \"])\n",
        "        board[ai_move] = \"O\"\n",
        "        print(f\"AI plays {ai_move + 1}:\")\n",
        "        print_board()\n",
        "\n",
        "        if check_win(board, \"O\"):\n",
        "            print(\"AI wins!\")\n",
        "            break\n",
        "\n",
        "play_game()\n",
        "\n"
      ]
    }
  ]
}