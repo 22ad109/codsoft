{
  "nbformat": 4,
  "nbformat_minor": 0,
  "metadata": {
    "colab": {
      "provenance": [],
      "authorship_tag": "ABX9TyP5ntxqEiIsRG3667o/8Dnl",
      "include_colab_link": true
    },
    "kernelspec": {
      "name": "python3",
      "display_name": "Python 3"
    },
    "language_info": {
      "name": "python"
    }
  },
  "cells": [
    {
      "cell_type": "markdown",
      "metadata": {
        "id": "view-in-github",
        "colab_type": "text"
      },
      "source": [
        "<a href=\"https://colab.research.google.com/github/22ad109/codsoft/blob/main/Untitled30.ipynb\" target=\"_parent\"><img src=\"https://colab.research.google.com/assets/colab-badge.svg\" alt=\"Open In Colab\"/></a>"
      ]
    },
    {
      "cell_type": "code",
      "execution_count": 1,
      "metadata": {
        "colab": {
          "base_uri": "https://localhost:8080/"
        },
        "id": "JCyluDXYLxIn",
        "outputId": "21ef0dd1-eed0-4f6b-b939-07f8bb4bd753"
      },
      "outputs": [
        {
          "output_type": "stream",
          "name": "stdout",
          "text": [
            "Enter your username (or type 'exit' to quit): exit\n",
            "Goodbye!\n"
          ]
        }
      ],
      "source": [
        "import pandas as pd\n",
        "\n",
        "data = {\n",
        "    'User': ['User1', 'User1', 'User2', 'User2', 'User3', 'User3', 'User4', 'User4', 'User5', 'User5'],\n",
        "    'Movie': ['Movie1', 'Movie2', 'Movie1', 'Movie3', 'Movie2', 'Movie4', 'Movie3', 'Movie4', 'Movie5', 'Movie2'],\n",
        "    'Rating': [5, 4, 3, 4, 5, 2, 4, 3, 2, 4]\n",
        "}\n",
        "\n",
        "df = pd.DataFrame(data)\n",
        "def recommend_movies(user):\n",
        "    user_ratings = df[df['User'] == user]\n",
        "\n",
        "    similar_users = df[(df['Movie'].isin(user_ratings['Movie'])) & (df['User'] != user) & (df['Rating'] >= 3)]\n",
        "\n",
        "    movie_ratings = similar_users.groupby('Movie')['Rating'].mean()\n",
        "\n",
        "    recommended_movies = movie_ratings.sort_values(ascending=False)\n",
        "\n",
        "    return recommended_movies.index.to_list()\n",
        "\n",
        "while True:\n",
        "    user = input(\"Enter your username (or type 'exit' to quit): \")\n",
        "\n",
        "    if user.lower() == 'exit':\n",
        "        print(\"Goodbye!\")\n",
        "        break\n",
        "    elif user in df['User'].unique():\n",
        "        recommended_movies = recommend_movies(user)\n",
        "        print(f\"Recommended movies for {user}: {recommended_movies}\")\n",
        "    else:\n",
        "        print(f\"User '{user}' not found in the dataset. Please try again.\")\n"
      ]
    }
  ]
}